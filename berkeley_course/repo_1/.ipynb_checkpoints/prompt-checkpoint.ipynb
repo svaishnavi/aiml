{
 "cells": [
  {
   "cell_type": "markdown",
   "metadata": {
    "id": "CcUT6Fon_qRE"
   },
   "source": [
    "### Required Assignment 5.1: Will the Customer Accept the Coupon?\n",
    "\n",
    "**Context**\n",
    "\n",
    "Imagine driving through town and a coupon is delivered to your cell phone for a restaurant near where you are driving. Would you accept that coupon and take a short detour to the restaurant? Would you accept the coupon but use it on a subsequent trip? Would you ignore the coupon entirely? What if the coupon was for a bar instead of a restaurant? What about a coffee house? Would you accept a bar coupon with a minor passenger in the car? What about if it was just you and your partner in the car? Would weather impact the rate of acceptance? What about the time of day?\n",
    "\n",
    "Obviously, proximity to the business is a factor on whether the coupon is delivered to the driver or not, but what are the factors that determine whether a driver accepts the coupon once it is delivered to them? How would you determine whether a driver is likely to accept a coupon?\n",
    "\n",
    "**Overview**\n",
    "\n",
    "The goal of this project is to use what you know about visualizations and probability distributions to distinguish between customers who accepted a driving coupon versus those that did not.\n",
    "\n",
    "**Data**\n",
    "\n",
    "This data comes to us from the UCI Machine Learning repository and was collected via a survey on Amazon Mechanical Turk. The survey describes different driving scenarios including the destination, current time, weather, passenger, etc., and then ask the person whether he will accept the coupon if he is the driver. Answers that the user will drive there ‘right away’ or ‘later before the coupon expires’ are labeled as ‘Y = 1’ and answers ‘no, I do not want the coupon’ are labeled as ‘Y = 0’.  There are five different types of coupons -- less expensive restaurants (under \\$20), coffee houses, carry out & take away, bar, and more expensive restaurants (\\$20 - $50)."
   ]
  },
  {
   "cell_type": "markdown",
   "metadata": {
    "id": "1wORvMBJ_qRF"
   },
   "source": [
    "**Deliverables**\n",
    "\n",
    "Your final product should be a brief report that highlights the differences between customers who did and did not accept the coupons.  To explore the data you will utilize your knowledge of plotting, statistical summaries, and visualization using Python. You will publish your findings in a public facing github repository as your first portfolio piece.\n",
    "\n",
    "\n",
    "\n"
   ]
  },
  {
   "cell_type": "markdown",
   "metadata": {
    "id": "pG6_Ym6q_qRG"
   },
   "source": [
    "### Data Description\n",
    "Keep in mind that these values mentioned below are average values.\n",
    "\n",
    "The attributes of this data set include:\n",
    "1. User attributes\n",
    "    -  Gender: male, female\n",
    "    -  Age: below 21, 21 to 25, 26 to 30, etc.\n",
    "    -  Marital Status: single, married partner, unmarried partner, or widowed\n",
    "    -  Number of children: 0, 1, or more than 1\n",
    "    -  Education: high school, bachelors degree, associates degree, or graduate degree\n",
    "    -  Occupation: architecture & engineering, business & financial, etc.\n",
    "    -  Annual income: less than \\\\$12500, \\\\$12500 - \\\\$24999, \\\\$25000 - \\\\$37499, etc.\n",
    "    -  Number of times that he/she goes to a bar: 0, less than 1, 1 to 3, 4 to 8 or greater than 8\n",
    "    -  Number of times that he/she buys takeaway food: 0, less than 1, 1 to 3, 4 to 8 or greater\n",
    "    than 8\n",
    "    -  Number of times that he/she goes to a coffee house: 0, less than 1, 1 to 3, 4 to 8 or\n",
    "    greater than 8\n",
    "    -  Number of times that he/she eats at a restaurant with average expense less than \\\\$20 per\n",
    "    person: 0, less than 1, 1 to 3, 4 to 8 or greater than 8\n",
    "    -  Number of times that he/she goes to a bar: 0, less than 1, 1 to 3, 4 to 8 or greater than 8\n",
    "    \n",
    "\n",
    "2. Contextual attributes\n",
    "    - Driving destination: home, work, or no urgent destination\n",
    "    - Location of user, coupon and destination: we provide a map to show the geographical\n",
    "    location of the user, destination, and the venue, and we mark the distance between each\n",
    "    two places with time of driving. The user can see whether the venue is in the same\n",
    "    direction as the destination.\n",
    "    - Weather: sunny, rainy, or snowy\n",
    "    - Temperature: 30F, 55F, or 80F\n",
    "    - Time: 10AM, 2PM, or 6PM\n",
    "    - Passenger: alone, partner, kid(s), or friend(s)\n",
    "\n",
    "\n",
    "3. Coupon attributes\n",
    "    - time before it expires: 2 hours or one day"
   ]
  },
  {
   "cell_type": "code",
   "execution_count": 1,
   "metadata": {
    "id": "dzNoP3o__qRG"
   },
   "outputs": [],
   "source": [
    "import matplotlib.pyplot as plt\n",
    "import seaborn as sns\n",
    "import pandas as pd\n",
    "import numpy as np"
   ]
  },
  {
   "cell_type": "code",
   "execution_count": 2,
   "metadata": {},
   "outputs": [],
   "source": [
    "#ignore all warnings\n",
    "import warnings\n",
    "warnings.filterwarnings('ignore')"
   ]
  },
  {
   "cell_type": "markdown",
   "metadata": {
    "id": "Ct8pI1uE_qRG"
   },
   "source": [
    "### Problems\n",
    "\n",
    "Use the prompts below to get started with your data analysis.  \n",
    "\n",
    "1. Read in the `coupons.csv` file.\n",
    "\n",
    "\n"
   ]
  },
  {
   "cell_type": "code",
   "execution_count": 3,
   "metadata": {
    "id": "X0vbffYg_qRH"
   },
   "outputs": [],
   "source": [
    "data = pd.read_csv('data/coupons.csv')"
   ]
  },
  {
   "cell_type": "code",
   "execution_count": 4,
   "metadata": {
    "id": "TXofQ_DF_qRH",
    "outputId": "2fc96a2c-1112-4b54-f24f-dbb9bc88abfb"
   },
   "outputs": [
    {
     "data": {
      "text/html": [
       "<div>\n",
       "<style scoped>\n",
       "    .dataframe tbody tr th:only-of-type {\n",
       "        vertical-align: middle;\n",
       "    }\n",
       "\n",
       "    .dataframe tbody tr th {\n",
       "        vertical-align: top;\n",
       "    }\n",
       "\n",
       "    .dataframe thead th {\n",
       "        text-align: right;\n",
       "    }\n",
       "</style>\n",
       "<table border=\"1\" class=\"dataframe\">\n",
       "  <thead>\n",
       "    <tr style=\"text-align: right;\">\n",
       "      <th></th>\n",
       "      <th>destination</th>\n",
       "      <th>passanger</th>\n",
       "      <th>weather</th>\n",
       "      <th>temperature</th>\n",
       "      <th>time</th>\n",
       "      <th>coupon</th>\n",
       "      <th>expiration</th>\n",
       "      <th>gender</th>\n",
       "      <th>age</th>\n",
       "      <th>maritalStatus</th>\n",
       "      <th>...</th>\n",
       "      <th>CoffeeHouse</th>\n",
       "      <th>CarryAway</th>\n",
       "      <th>RestaurantLessThan20</th>\n",
       "      <th>Restaurant20To50</th>\n",
       "      <th>toCoupon_GEQ5min</th>\n",
       "      <th>toCoupon_GEQ15min</th>\n",
       "      <th>toCoupon_GEQ25min</th>\n",
       "      <th>direction_same</th>\n",
       "      <th>direction_opp</th>\n",
       "      <th>Y</th>\n",
       "    </tr>\n",
       "  </thead>\n",
       "  <tbody>\n",
       "    <tr>\n",
       "      <th>0</th>\n",
       "      <td>No Urgent Place</td>\n",
       "      <td>Alone</td>\n",
       "      <td>Sunny</td>\n",
       "      <td>55</td>\n",
       "      <td>2PM</td>\n",
       "      <td>Restaurant(&lt;20)</td>\n",
       "      <td>1d</td>\n",
       "      <td>Female</td>\n",
       "      <td>21</td>\n",
       "      <td>Unmarried partner</td>\n",
       "      <td>...</td>\n",
       "      <td>never</td>\n",
       "      <td>NaN</td>\n",
       "      <td>4~8</td>\n",
       "      <td>1~3</td>\n",
       "      <td>1</td>\n",
       "      <td>0</td>\n",
       "      <td>0</td>\n",
       "      <td>0</td>\n",
       "      <td>1</td>\n",
       "      <td>1</td>\n",
       "    </tr>\n",
       "    <tr>\n",
       "      <th>1</th>\n",
       "      <td>No Urgent Place</td>\n",
       "      <td>Friend(s)</td>\n",
       "      <td>Sunny</td>\n",
       "      <td>80</td>\n",
       "      <td>10AM</td>\n",
       "      <td>Coffee House</td>\n",
       "      <td>2h</td>\n",
       "      <td>Female</td>\n",
       "      <td>21</td>\n",
       "      <td>Unmarried partner</td>\n",
       "      <td>...</td>\n",
       "      <td>never</td>\n",
       "      <td>NaN</td>\n",
       "      <td>4~8</td>\n",
       "      <td>1~3</td>\n",
       "      <td>1</td>\n",
       "      <td>0</td>\n",
       "      <td>0</td>\n",
       "      <td>0</td>\n",
       "      <td>1</td>\n",
       "      <td>0</td>\n",
       "    </tr>\n",
       "    <tr>\n",
       "      <th>2</th>\n",
       "      <td>No Urgent Place</td>\n",
       "      <td>Friend(s)</td>\n",
       "      <td>Sunny</td>\n",
       "      <td>80</td>\n",
       "      <td>10AM</td>\n",
       "      <td>Carry out &amp; Take away</td>\n",
       "      <td>2h</td>\n",
       "      <td>Female</td>\n",
       "      <td>21</td>\n",
       "      <td>Unmarried partner</td>\n",
       "      <td>...</td>\n",
       "      <td>never</td>\n",
       "      <td>NaN</td>\n",
       "      <td>4~8</td>\n",
       "      <td>1~3</td>\n",
       "      <td>1</td>\n",
       "      <td>1</td>\n",
       "      <td>0</td>\n",
       "      <td>0</td>\n",
       "      <td>1</td>\n",
       "      <td>1</td>\n",
       "    </tr>\n",
       "    <tr>\n",
       "      <th>3</th>\n",
       "      <td>No Urgent Place</td>\n",
       "      <td>Friend(s)</td>\n",
       "      <td>Sunny</td>\n",
       "      <td>80</td>\n",
       "      <td>2PM</td>\n",
       "      <td>Coffee House</td>\n",
       "      <td>2h</td>\n",
       "      <td>Female</td>\n",
       "      <td>21</td>\n",
       "      <td>Unmarried partner</td>\n",
       "      <td>...</td>\n",
       "      <td>never</td>\n",
       "      <td>NaN</td>\n",
       "      <td>4~8</td>\n",
       "      <td>1~3</td>\n",
       "      <td>1</td>\n",
       "      <td>1</td>\n",
       "      <td>0</td>\n",
       "      <td>0</td>\n",
       "      <td>1</td>\n",
       "      <td>0</td>\n",
       "    </tr>\n",
       "    <tr>\n",
       "      <th>4</th>\n",
       "      <td>No Urgent Place</td>\n",
       "      <td>Friend(s)</td>\n",
       "      <td>Sunny</td>\n",
       "      <td>80</td>\n",
       "      <td>2PM</td>\n",
       "      <td>Coffee House</td>\n",
       "      <td>1d</td>\n",
       "      <td>Female</td>\n",
       "      <td>21</td>\n",
       "      <td>Unmarried partner</td>\n",
       "      <td>...</td>\n",
       "      <td>never</td>\n",
       "      <td>NaN</td>\n",
       "      <td>4~8</td>\n",
       "      <td>1~3</td>\n",
       "      <td>1</td>\n",
       "      <td>1</td>\n",
       "      <td>0</td>\n",
       "      <td>0</td>\n",
       "      <td>1</td>\n",
       "      <td>0</td>\n",
       "    </tr>\n",
       "  </tbody>\n",
       "</table>\n",
       "<p>5 rows × 26 columns</p>\n",
       "</div>"
      ],
      "text/plain": [
       "       destination  passanger weather  temperature  time  \\\n",
       "0  No Urgent Place      Alone   Sunny           55   2PM   \n",
       "1  No Urgent Place  Friend(s)   Sunny           80  10AM   \n",
       "2  No Urgent Place  Friend(s)   Sunny           80  10AM   \n",
       "3  No Urgent Place  Friend(s)   Sunny           80   2PM   \n",
       "4  No Urgent Place  Friend(s)   Sunny           80   2PM   \n",
       "\n",
       "                  coupon expiration  gender age      maritalStatus  ...  \\\n",
       "0        Restaurant(<20)         1d  Female  21  Unmarried partner  ...   \n",
       "1           Coffee House         2h  Female  21  Unmarried partner  ...   \n",
       "2  Carry out & Take away         2h  Female  21  Unmarried partner  ...   \n",
       "3           Coffee House         2h  Female  21  Unmarried partner  ...   \n",
       "4           Coffee House         1d  Female  21  Unmarried partner  ...   \n",
       "\n",
       "   CoffeeHouse CarryAway RestaurantLessThan20 Restaurant20To50  \\\n",
       "0        never       NaN                  4~8              1~3   \n",
       "1        never       NaN                  4~8              1~3   \n",
       "2        never       NaN                  4~8              1~3   \n",
       "3        never       NaN                  4~8              1~3   \n",
       "4        never       NaN                  4~8              1~3   \n",
       "\n",
       "  toCoupon_GEQ5min toCoupon_GEQ15min toCoupon_GEQ25min direction_same  \\\n",
       "0                1                 0                 0              0   \n",
       "1                1                 0                 0              0   \n",
       "2                1                 1                 0              0   \n",
       "3                1                 1                 0              0   \n",
       "4                1                 1                 0              0   \n",
       "\n",
       "  direction_opp  Y  \n",
       "0             1  1  \n",
       "1             1  0  \n",
       "2             1  1  \n",
       "3             1  0  \n",
       "4             1  0  \n",
       "\n",
       "[5 rows x 26 columns]"
      ]
     },
     "execution_count": 4,
     "metadata": {},
     "output_type": "execute_result"
    }
   ],
   "source": [
    "data.head()"
   ]
  },
  {
   "cell_type": "code",
   "execution_count": 5,
   "metadata": {},
   "outputs": [
    {
     "data": {
      "text/html": [
       "<div>\n",
       "<style scoped>\n",
       "    .dataframe tbody tr th:only-of-type {\n",
       "        vertical-align: middle;\n",
       "    }\n",
       "\n",
       "    .dataframe tbody tr th {\n",
       "        vertical-align: top;\n",
       "    }\n",
       "\n",
       "    .dataframe thead th {\n",
       "        text-align: right;\n",
       "    }\n",
       "</style>\n",
       "<table border=\"1\" class=\"dataframe\">\n",
       "  <thead>\n",
       "    <tr style=\"text-align: right;\">\n",
       "      <th></th>\n",
       "      <th>temperature</th>\n",
       "      <th>has_children</th>\n",
       "      <th>toCoupon_GEQ5min</th>\n",
       "      <th>toCoupon_GEQ15min</th>\n",
       "      <th>toCoupon_GEQ25min</th>\n",
       "      <th>direction_same</th>\n",
       "      <th>direction_opp</th>\n",
       "      <th>Y</th>\n",
       "    </tr>\n",
       "  </thead>\n",
       "  <tbody>\n",
       "    <tr>\n",
       "      <th>count</th>\n",
       "      <td>12684.000000</td>\n",
       "      <td>12684.000000</td>\n",
       "      <td>12684.0</td>\n",
       "      <td>12684.000000</td>\n",
       "      <td>12684.000000</td>\n",
       "      <td>12684.000000</td>\n",
       "      <td>12684.000000</td>\n",
       "      <td>12684.000000</td>\n",
       "    </tr>\n",
       "    <tr>\n",
       "      <th>mean</th>\n",
       "      <td>63.301798</td>\n",
       "      <td>0.414144</td>\n",
       "      <td>1.0</td>\n",
       "      <td>0.561495</td>\n",
       "      <td>0.119126</td>\n",
       "      <td>0.214759</td>\n",
       "      <td>0.785241</td>\n",
       "      <td>0.568433</td>\n",
       "    </tr>\n",
       "    <tr>\n",
       "      <th>std</th>\n",
       "      <td>19.154486</td>\n",
       "      <td>0.492593</td>\n",
       "      <td>0.0</td>\n",
       "      <td>0.496224</td>\n",
       "      <td>0.323950</td>\n",
       "      <td>0.410671</td>\n",
       "      <td>0.410671</td>\n",
       "      <td>0.495314</td>\n",
       "    </tr>\n",
       "    <tr>\n",
       "      <th>min</th>\n",
       "      <td>30.000000</td>\n",
       "      <td>0.000000</td>\n",
       "      <td>1.0</td>\n",
       "      <td>0.000000</td>\n",
       "      <td>0.000000</td>\n",
       "      <td>0.000000</td>\n",
       "      <td>0.000000</td>\n",
       "      <td>0.000000</td>\n",
       "    </tr>\n",
       "    <tr>\n",
       "      <th>25%</th>\n",
       "      <td>55.000000</td>\n",
       "      <td>0.000000</td>\n",
       "      <td>1.0</td>\n",
       "      <td>0.000000</td>\n",
       "      <td>0.000000</td>\n",
       "      <td>0.000000</td>\n",
       "      <td>1.000000</td>\n",
       "      <td>0.000000</td>\n",
       "    </tr>\n",
       "    <tr>\n",
       "      <th>50%</th>\n",
       "      <td>80.000000</td>\n",
       "      <td>0.000000</td>\n",
       "      <td>1.0</td>\n",
       "      <td>1.000000</td>\n",
       "      <td>0.000000</td>\n",
       "      <td>0.000000</td>\n",
       "      <td>1.000000</td>\n",
       "      <td>1.000000</td>\n",
       "    </tr>\n",
       "    <tr>\n",
       "      <th>75%</th>\n",
       "      <td>80.000000</td>\n",
       "      <td>1.000000</td>\n",
       "      <td>1.0</td>\n",
       "      <td>1.000000</td>\n",
       "      <td>0.000000</td>\n",
       "      <td>0.000000</td>\n",
       "      <td>1.000000</td>\n",
       "      <td>1.000000</td>\n",
       "    </tr>\n",
       "    <tr>\n",
       "      <th>max</th>\n",
       "      <td>80.000000</td>\n",
       "      <td>1.000000</td>\n",
       "      <td>1.0</td>\n",
       "      <td>1.000000</td>\n",
       "      <td>1.000000</td>\n",
       "      <td>1.000000</td>\n",
       "      <td>1.000000</td>\n",
       "      <td>1.000000</td>\n",
       "    </tr>\n",
       "  </tbody>\n",
       "</table>\n",
       "</div>"
      ],
      "text/plain": [
       "        temperature  has_children  toCoupon_GEQ5min  toCoupon_GEQ15min  \\\n",
       "count  12684.000000  12684.000000           12684.0       12684.000000   \n",
       "mean      63.301798      0.414144               1.0           0.561495   \n",
       "std       19.154486      0.492593               0.0           0.496224   \n",
       "min       30.000000      0.000000               1.0           0.000000   \n",
       "25%       55.000000      0.000000               1.0           0.000000   \n",
       "50%       80.000000      0.000000               1.0           1.000000   \n",
       "75%       80.000000      1.000000               1.0           1.000000   \n",
       "max       80.000000      1.000000               1.0           1.000000   \n",
       "\n",
       "       toCoupon_GEQ25min  direction_same  direction_opp             Y  \n",
       "count       12684.000000    12684.000000   12684.000000  12684.000000  \n",
       "mean            0.119126        0.214759       0.785241      0.568433  \n",
       "std             0.323950        0.410671       0.410671      0.495314  \n",
       "min             0.000000        0.000000       0.000000      0.000000  \n",
       "25%             0.000000        0.000000       1.000000      0.000000  \n",
       "50%             0.000000        0.000000       1.000000      1.000000  \n",
       "75%             0.000000        0.000000       1.000000      1.000000  \n",
       "max             1.000000        1.000000       1.000000      1.000000  "
      ]
     },
     "execution_count": 5,
     "metadata": {},
     "output_type": "execute_result"
    }
   ],
   "source": [
    "# Following command calculates some statistical data like percentile, mean and std of the numerical values of the DataFrame\n",
    "data.describe()"
   ]
  },
  {
   "cell_type": "code",
   "execution_count": 6,
   "metadata": {},
   "outputs": [],
   "source": [
    "# Export the DataFrame to an Excel file named 'output.xlsx'\n",
    "data.to_excel('data.xlsx', index=False) "
   ]
  },
  {
   "cell_type": "markdown",
   "metadata": {
    "id": "GcDs78ZH_qRH"
   },
   "source": [
    "2. Investigate the dataset for missing or problematic data."
   ]
  },
  {
   "cell_type": "code",
   "execution_count": 7,
   "metadata": {
    "id": "6CwL6oWj_qRH"
   },
   "outputs": [
    {
     "data": {
      "text/plain": [
       "(12684, 26)"
      ]
     },
     "execution_count": 7,
     "metadata": {},
     "output_type": "execute_result"
    }
   ],
   "source": [
    "# first I want to figure out how many rows and columns are in the dataset\n",
    "data.shape"
   ]
  },
  {
   "cell_type": "markdown",
   "metadata": {},
   "source": [
    "@ Findings: The dataset contains 12,684 rows and 26 columns"
   ]
  },
  {
   "cell_type": "code",
   "execution_count": 8,
   "metadata": {},
   "outputs": [
    {
     "name": "stdout",
     "output_type": "stream",
     "text": [
      "<class 'pandas.core.frame.DataFrame'>\n",
      "RangeIndex: 12684 entries, 0 to 12683\n",
      "Data columns (total 26 columns):\n",
      " #   Column                Non-Null Count  Dtype \n",
      "---  ------                --------------  ----- \n",
      " 0   destination           12684 non-null  object\n",
      " 1   passanger             12684 non-null  object\n",
      " 2   weather               12684 non-null  object\n",
      " 3   temperature           12684 non-null  int64 \n",
      " 4   time                  12684 non-null  object\n",
      " 5   coupon                12684 non-null  object\n",
      " 6   expiration            12684 non-null  object\n",
      " 7   gender                12684 non-null  object\n",
      " 8   age                   12684 non-null  object\n",
      " 9   maritalStatus         12684 non-null  object\n",
      " 10  has_children          12684 non-null  int64 \n",
      " 11  education             12684 non-null  object\n",
      " 12  occupation            12684 non-null  object\n",
      " 13  income                12684 non-null  object\n",
      " 14  car                   108 non-null    object\n",
      " 15  Bar                   12577 non-null  object\n",
      " 16  CoffeeHouse           12467 non-null  object\n",
      " 17  CarryAway             12533 non-null  object\n",
      " 18  RestaurantLessThan20  12554 non-null  object\n",
      " 19  Restaurant20To50      12495 non-null  object\n",
      " 20  toCoupon_GEQ5min      12684 non-null  int64 \n",
      " 21  toCoupon_GEQ15min     12684 non-null  int64 \n",
      " 22  toCoupon_GEQ25min     12684 non-null  int64 \n",
      " 23  direction_same        12684 non-null  int64 \n",
      " 24  direction_opp         12684 non-null  int64 \n",
      " 25  Y                     12684 non-null  int64 \n",
      "dtypes: int64(8), object(18)\n",
      "memory usage: 2.5+ MB\n"
     ]
    }
   ],
   "source": [
    "# given that we want to investigate missing data, lets drill down a bit further in the dataset\n",
    "data.info()"
   ]
  },
  {
   "cell_type": "markdown",
   "metadata": {},
   "source": [
    "@ Findings: The dataset contains 12,684 rows and 26 columns, with most columns fully populated. However, there are some columns with \"object\" as Dtype. These may need to be updated to int or string. For example, the age column is stored as an object type, likely due to inconsistent formatting, and should be converted to numeric or categorical. Overall, the dataset is mostly clean and well-structured, with only a few columns needing attention before analysis or modeling."
   ]
  },
  {
   "cell_type": "code",
   "execution_count": 9,
   "metadata": {},
   "outputs": [],
   "source": [
    "#fix any column dtype (because graphs might need non-object columns)\n",
    "data['coupon'] = data['coupon'].astype('string')\n",
    "data['Bar'] = data['Bar'].astype('string')\n",
    "data['age'] = data['age'].replace('below21',\"15\")\n",
    "data['age'] = data['age'].replace('50plus',\"55\")\n",
    "data['age'] = data['age'].astype(int)\n",
    "data['income'] = data['income'].astype('string')"
   ]
  },
  {
   "cell_type": "code",
   "execution_count": 10,
   "metadata": {},
   "outputs": [
    {
     "name": "stdout",
     "output_type": "stream",
     "text": [
      "Passanger: ['Alone' 'Friend(s)' 'Kid(s)' 'Partner']\n",
      "Weather: ['Sunny' 'Rainy' 'Snowy']\n",
      "Temperature: [55 80 30]\n",
      "Coupon: <StringArray>\n",
      "[      'Restaurant(<20)',          'Coffee House', 'Carry out & Take away',\n",
      "                   'Bar',     'Restaurant(20-50)']\n",
      "Length: 5, dtype: string\n",
      "Expiration: ['1d' '2h']\n",
      "Age: [21 46 26 31 41 55 36 15]\n",
      "Marital Status: ['Unmarried partner' 'Single' 'Married partner' 'Divorced' 'Widowed']\n",
      "Has Children?: [1 0]\n",
      "Income: <StringArray>\n",
      "[ '$37500 - $49999',  '$62500 - $74999',  '$12500 - $24999',\n",
      "  '$75000 - $87499',  '$50000 - $62499',  '$25000 - $37499',\n",
      "  '$100000 or More',  '$87500 - $99999', 'Less than $12500']\n",
      "Length: 9, dtype: string\n",
      "Car: [nan 'Scooter and motorcycle' 'crossover' 'Mazda5' 'do not drive'\n",
      " 'Car that is too old to install Onstar :D']\n",
      "Bar Frequency: <StringArray>\n",
      "['never', 'less1', '1~3', 'gt8', <NA>, '4~8']\n",
      "Length: 6, dtype: string\n",
      "Y: [1 0]\n"
     ]
    }
   ],
   "source": [
    "#unique values in the key columns which determine the coupon redemption\n",
    "print(\"Passanger:\", data['passanger'].unique())\n",
    "print(\"Weather:\", data['weather'].unique())\n",
    "print(\"Temperature:\", data['temperature'].unique())\n",
    "print(\"Coupon:\", data['coupon'].unique())\n",
    "print(\"Expiration:\", data['expiration'].unique())\n",
    "print(\"Age:\", data['age'].unique())\n",
    "print(\"Marital Status:\", data['maritalStatus'].unique())\n",
    "print(\"Has Children?:\", data['has_children'].unique())\n",
    "print(\"Income:\", data['income'].unique())\n",
    "print(\"Car:\", data['car'].unique())\n",
    "print(\"Bar Frequency:\", data['Bar'].unique())\n",
    "print(\"Y:\", data['Y'].unique())"
   ]
  },
  {
   "cell_type": "markdown",
   "metadata": {},
   "source": [
    "@ Findings: Rich in categorical data across demographics, behavior, and context. But missing values are mainly in car and some behavior columns (Bar, etc.)."
   ]
  },
  {
   "cell_type": "markdown",
   "metadata": {
    "id": "bSdVSpYB_qRH"
   },
   "source": [
    "3. Decide what to do about your missing data -- drop, replace, other..."
   ]
  },
  {
   "cell_type": "code",
   "execution_count": 11,
   "metadata": {},
   "outputs": [
    {
     "data": {
      "text/plain": [
       "destination                 0\n",
       "passanger                   0\n",
       "weather                     0\n",
       "temperature                 0\n",
       "time                        0\n",
       "coupon                      0\n",
       "expiration                  0\n",
       "gender                      0\n",
       "age                         0\n",
       "maritalStatus               0\n",
       "has_children                0\n",
       "education                   0\n",
       "occupation                  0\n",
       "income                      0\n",
       "car                     12576\n",
       "Bar                       107\n",
       "CoffeeHouse               217\n",
       "CarryAway                 151\n",
       "RestaurantLessThan20      130\n",
       "Restaurant20To50          189\n",
       "toCoupon_GEQ5min            0\n",
       "toCoupon_GEQ15min           0\n",
       "toCoupon_GEQ25min           0\n",
       "direction_same              0\n",
       "direction_opp               0\n",
       "Y                           0\n",
       "dtype: int64"
      ]
     },
     "execution_count": 11,
     "metadata": {},
     "output_type": "execute_result"
    }
   ],
   "source": [
    "# we had 12K rows, lets see the null\n",
    "data.isnull().sum()"
   ]
  },
  {
   "cell_type": "markdown",
   "metadata": {},
   "source": [
    "@Findings: The car column is almost entirely missing and may not be useful. The other food/venue-related columns (Bar, CoffeeHouse, etc.) have low to moderate missing values (1–2%), which can likely be handled with dropping the rows if needed. All other features are fully complete, providing a strong foundation for modeling or analysis. We need to clean the dataset especially the car column"
   ]
  },
  {
   "cell_type": "code",
   "execution_count": 12,
   "metadata": {
    "id": "tyvoAC5F_qRI"
   },
   "outputs": [],
   "source": [
    "# Create a new data frame by making a copy\n",
    "df = data.copy()\n",
    "\n",
    "# Fill the null values in 'car'column as 'no'\n",
    "df['car'] = df['car'].fillna(value='no')\n",
    "\n",
    "# Fill the remaining non null values in 'car'column as 'yes' & 'no' as appropriate\n",
    "df = df.replace({'car' : {'Scooter and motorcycle' : 'yes', \n",
    "                          'crossover' : 'yes', \n",
    "                          'Mazda5' : 'yes',\n",
    "                          'do not drive' : 'no', \n",
    "                          'Car that is too old to install Onstar :D' : 'no'}\n",
    "                })"
   ]
  },
  {
   "cell_type": "code",
   "execution_count": 13,
   "metadata": {},
   "outputs": [
    {
     "data": {
      "text/plain": [
       "array(['no', 'yes'], dtype=object)"
      ]
     },
     "execution_count": 13,
     "metadata": {},
     "output_type": "execute_result"
    }
   ],
   "source": [
    "#unique values in the key columns\n",
    "df['car'].unique()"
   ]
  },
  {
   "cell_type": "code",
   "execution_count": 14,
   "metadata": {},
   "outputs": [
    {
     "data": {
      "text/plain": [
       "np.int64(794)"
      ]
     },
     "execution_count": 14,
     "metadata": {},
     "output_type": "execute_result"
    }
   ],
   "source": [
    "# another way to see the null is \n",
    "df.isnull().sum().sum()"
   ]
  },
  {
   "cell_type": "code",
   "execution_count": 15,
   "metadata": {},
   "outputs": [
    {
     "data": {
      "text/plain": [
       "destination               0\n",
       "passanger                 0\n",
       "weather                   0\n",
       "temperature               0\n",
       "time                      0\n",
       "coupon                    0\n",
       "expiration                0\n",
       "gender                    0\n",
       "age                       0\n",
       "maritalStatus             0\n",
       "has_children              0\n",
       "education                 0\n",
       "occupation                0\n",
       "income                    0\n",
       "car                       0\n",
       "Bar                     107\n",
       "CoffeeHouse             217\n",
       "CarryAway               151\n",
       "RestaurantLessThan20    130\n",
       "Restaurant20To50        189\n",
       "toCoupon_GEQ5min          0\n",
       "toCoupon_GEQ15min         0\n",
       "toCoupon_GEQ25min         0\n",
       "direction_same            0\n",
       "direction_opp             0\n",
       "Y                         0\n",
       "dtype: int64"
      ]
     },
     "execution_count": 15,
     "metadata": {},
     "output_type": "execute_result"
    }
   ],
   "source": [
    "# we updated car, but lets see the result\n",
    "df.isnull().sum()"
   ]
  },
  {
   "cell_type": "code",
   "execution_count": 16,
   "metadata": {},
   "outputs": [],
   "source": [
    "# Drop the null values of the remaining columns\n",
    "df = df.dropna()"
   ]
  },
  {
   "cell_type": "code",
   "execution_count": 17,
   "metadata": {},
   "outputs": [
    {
     "data": {
      "text/plain": [
       "np.int64(0)"
      ]
     },
     "execution_count": 17,
     "metadata": {},
     "output_type": "execute_result"
    }
   ],
   "source": [
    "# null value count in df, again\n",
    "df.isnull().sum().sum()\n",
    "\n",
    "#now we are good to move further in the assignment"
   ]
  },
  {
   "cell_type": "markdown",
   "metadata": {
    "id": "YE6oJbXd_qRI"
   },
   "source": [
    "4. What proportion of the total observations chose to accept the coupon?\n",
    "\n"
   ]
  },
  {
   "cell_type": "code",
   "execution_count": 18,
   "metadata": {
    "id": "86GGqBTv_qRI"
   },
   "outputs": [
    {
     "name": "stdout",
     "output_type": "stream",
     "text": [
      "Coupon Accepted:  6877\n",
      "Coupon Not Accepted:  5202\n",
      "Coupon Acceptance: 56.9%\n"
     ]
    }
   ],
   "source": [
    "#Determine how many accepted the coupon\n",
    "coupon_accepted=df['Y'].value_counts()\n",
    "print(\"Coupon Accepted: \", coupon_accepted[1])\n",
    "print(\"Coupon Not Accepted: \", coupon_accepted[0])\n",
    "\n",
    "#get the total amount of rows in df\n",
    "df_total = len(df)\n",
    "\n",
    "#get the total amount of rows where the coupon was accepted\n",
    "df_accepted = len(df.query(' Y == 1 '))\n",
    "\n",
    "#calculate the rate of accepted coupons\n",
    "df_acceptedRate = ( df_accepted / df_total ) * 100\n",
    "print(f'Coupon Acceptance: {round(df_acceptedRate,1)}%')"
   ]
  },
  {
   "cell_type": "markdown",
   "metadata": {},
   "source": [
    "@Finding: Out of all the customers in the dataset, 56.9% accepted the coupon, indicating that more than half of the customers responded positively to the coupon offer."
   ]
  },
  {
   "cell_type": "markdown",
   "metadata": {
    "id": "vflz0DoE_qRI"
   },
   "source": [
    "5. Use a bar plot to visualize the `coupon` column."
   ]
  },
  {
   "cell_type": "code",
   "execution_count": 19,
   "metadata": {
    "id": "dHFh3E45_qRI"
   },
   "outputs": [
    {
     "data": {
      "image/png": "[encoded data removed]",
      "text/plain": [
       "<Figure size 1000x600 with 1 Axes>"
      ]
     },
     "metadata": {},
     "output_type": "display_data"
    }
   ],
   "source": [
    "# Create a figure and axes to control the plot\n",
    "plt.figure(figsize=(10, 6))\n",
    "\n",
    "# Below bar plot shows that Coffee House tops the type of coupons\n",
    "barpl_coupon = sns.barplot(x = df.coupon.value_counts().index, \n",
    "                           y = df.coupon.value_counts(),\n",
    "                           palette=\"pastel\")\n",
    "barpl_coupon.tick_params(axis='x', rotation=45)\n",
    "barpl_coupon.set(xlabel='Coupon Type', \n",
    "                 ylabel='Total Count')\n",
    "barpl_coupon.set_title('Coupon Type by Count')\n",
    "\n",
    "# Save the plot\n",
    "plt.tight_layout()  # Adjusts layout to prevent clipping\n",
    "plt.savefig(\"images/coupon_type_barplot.png\", dpi=300, bbox_inches='tight')\n",
    "plt.show()"
   ]
  },
  {
   "cell_type": "markdown",
   "metadata": {},
   "source": [
    "@Finding: The data suggests that casual and convenient dining options (e.g., coffee and takeout) are promoted more heavily or are more frequently accepted than higher-cost or social venue coupons like those for bars."
   ]
  },
  {
   "cell_type": "markdown",
   "metadata": {
    "id": "Qw4lCyx2_qRI"
   },
   "source": [
    "6. Use a histogram to visualize the temperature column."
   ]
  },
  {
   "cell_type": "code",
   "execution_count": 20,
   "metadata": {
    "id": "Yg9Anv71_qRI"
   },
   "outputs": [
    {
     "data": {
      "image/png": "[encoded data removed]",
      "text/plain": [
       "<Figure size 1000x600 with 1 Axes>"
      ]
     },
     "metadata": {},
     "output_type": "display_data"
    }
   ],
   "source": [
    "# Create a figure and axes to control the plot\n",
    "plt.figure(figsize=(10, 6))\n",
    "\n",
    "#Below histogram to look at the temperature column\n",
    "histpl_temp = sns.histplot(data = df, \n",
    "                           x = 'temperature', \n",
    "                           binwidth = 5, \n",
    "                           kde=True)\n",
    "\n",
    "histpl_temp.set_title('Temperature Histogram', fontsize=16)\n",
    "histpl_temp.set_xlabel(\"Temperature\", fontsize=16)\n",
    "histpl_temp.set_ylabel(\"Count\", fontsize=16)\n",
    "\n",
    "# Save the plot\n",
    "plt.tight_layout()  # Adjusts layout to prevent clipping\n",
    "plt.savefig(\"images/temperature_histogram.png\", dpi=300, bbox_inches='tight')\n",
    "plt.show()"
   ]
  },
  {
   "cell_type": "markdown",
   "metadata": {},
   "source": [
    "@Finding: The histogram shows a trimodal distribution of temperature data with three distinct peaks around 30°F, 57°F, and 78°F. The highest frequency is at 78°F, suggesting warmer temperatures are most common."
   ]
  },
  {
   "cell_type": "markdown",
   "metadata": {
    "id": "FupfgeJk_qRJ"
   },
   "source": [
    "**Investigating the Bar Coupons**\n",
    "\n",
    "Now, we will lead you through an exploration of just the bar related coupons.  \n",
    "\n",
    "1. Create a new `DataFrame` that contains just the bar coupons.\n"
   ]
  },
  {
   "cell_type": "code",
   "execution_count": 21,
   "metadata": {
    "id": "tMBlWuGq_qRJ"
   },
   "outputs": [
    {
     "data": {
      "text/plain": [
       "<StringArray>\n",
       "['Bar']\n",
       "Length: 1, dtype: string"
      ]
     },
     "execution_count": 21,
     "metadata": {},
     "output_type": "execute_result"
    }
   ],
   "source": [
    "# new dataframe with bar coupons\n",
    "df_barcoupons = df.query(\"coupon == 'Bar'\")\n",
    "df_barcoupons['coupon'].unique()"
   ]
  },
  {
   "cell_type": "markdown",
   "metadata": {
    "id": "8ue6uCqf_qRJ"
   },
   "source": [
    "2. What proportion of bar coupons were accepted?\n"
   ]
  },
  {
   "cell_type": "code",
   "execution_count": 22,
   "metadata": {
    "id": "hSdte8Mi_qRK"
   },
   "outputs": [
    {
     "name": "stdout",
     "output_type": "stream",
     "text": [
      "Number of Bar coupons accepted: 788\n",
      "Bar Coupon Accepted: 41.2%\n"
     ]
    }
   ],
   "source": [
    "#In the new dataframe, process the sum of the Y column, ie, it will only include where those where the value was one, i.e., Accepted\n",
    "totalBarCouponsAccepted = df_barcoupons['Y'].sum()\n",
    "print(f\"Number of Bar coupons accepted: {totalBarCouponsAccepted}\")\n",
    "\n",
    "#Now process the proportion of bar coupons that were accepted\n",
    "dflen = len(df_barcoupons)\n",
    "barCouponAcceptPercent = (totalBarCouponsAccepted / dflen) * 100\n",
    "print(f'Bar Coupon Accepted: {round(barCouponAcceptPercent,1)}%')"
   ]
  },
  {
   "cell_type": "markdown",
   "metadata": {},
   "source": [
    "@Finding: The analysis shows that 788 bar coupons were accepted, which represents 41.2% of all bar coupon offers in the dataset. This indicates that less than half of the bar coupons were accepted by users."
   ]
  },
  {
   "cell_type": "code",
   "execution_count": 24,
   "metadata": {},
   "outputs": [
    {
     "data": {
      "image/png": "[encoded data removed]",
      "text/plain": [
       "<Figure size 1000x600 with 1 Axes>"
      ]
     },
     "metadata": {},
     "output_type": "display_data"
    }
   ],
   "source": [
    "# Create a figure and axes to control the plot\n",
    "plt.figure(figsize=(10, 6))\n",
    "\n",
    "#a better visualization is pie graph. lets do that as well. \n",
    "data = [barCouponAcceptPercent, 100 - barCouponAcceptPercent]\n",
    "labels = ['bar coupon accepted', 'bar coupon not accepted']\n",
    "\n",
    "#define Seaborn color palette to use\n",
    "colors = sns.color_palette('pastel')[0:2]\n",
    "\n",
    "#create pie chart\n",
    "plt.pie(data, \n",
    "        labels = labels, \n",
    "        colors = colors, \n",
    "        autopct='%.0f%%')\n",
    "plt.title('bar_coupon_acceptance - overall')\n",
    "\n",
    "# Save the plot\n",
    "plt.tight_layout()  # Adjusts layout to prevent clipping\n",
    "plt.savefig(\"images/bar_coupon_acceptance.png\", dpi=300, bbox_inches='tight')\n",
    "plt.show()"
   ]
  },
  {
   "cell_type": "markdown",
   "metadata": {
    "id": "85nA_iEi_qRK"
   },
   "source": [
    "3. Compare the acceptance rate between those who went to a bar 3 or fewer times a month to those who went more.\n"
   ]
  },
  {
   "cell_type": "code",
   "execution_count": 25,
   "metadata": {
    "id": "LBOrN-XM_qRK"
   },
   "outputs": [
    {
     "data": {
      "text/plain": [
       "<StringArray>\n",
       "['never', 'less1', '1~3', 'gt8', '4~8']\n",
       "Length: 5, dtype: string"
      ]
     },
     "execution_count": 25,
     "metadata": {},
     "output_type": "execute_result"
    }
   ],
   "source": [
    "#lets see the unique values in Bar\n",
    "df_barcoupons['Bar'].unique()"
   ]
  },
  {
   "cell_type": "code",
   "execution_count": 26,
   "metadata": {},
   "outputs": [
    {
     "data": {
      "text/plain": [
       "Bar_More_Frequent\n",
       "0    1720\n",
       "1     193\n",
       "Name: count, dtype: int64"
      ]
     },
     "execution_count": 26,
     "metadata": {},
     "output_type": "execute_result"
    }
   ],
   "source": [
    "# Let's create a simple list to keep only more frequent entries\n",
    "frequent = ['gt8', '4~8']\n",
    "# Now, use the list and create a new column with condition based\n",
    "df_barcoupons['Bar_More_Frequent'] = np.where(df_barcoupons['Bar'].isin(frequent), 1, 0)\n",
    "# Now, validate where the new column is present and the value counts are as expected\n",
    "df_barcoupons['Bar_More_Frequent'].value_counts()\n",
    "# This column says whether a person is a frequent visitor to the bar or not"
   ]
  },
  {
   "cell_type": "code",
   "execution_count": 27,
   "metadata": {},
   "outputs": [
    {
     "data": {
      "text/plain": [
       "np.int64(1913)"
      ]
     },
     "execution_count": 27,
     "metadata": {},
     "output_type": "execute_result"
    }
   ],
   "source": [
    "df_barcoupons['Bar_More_Frequent'].count()\n",
    "# This value is total count"
   ]
  },
  {
   "cell_type": "code",
   "execution_count": 42,
   "metadata": {},
   "outputs": [
    {
     "name": "stdout",
     "output_type": "stream",
     "text": [
      "The total acceptance of of those who went to a bar more times in a month was 76.17 \n"
     ]
    }
   ],
   "source": [
    "# Lets first assess the bar coupon accepted count for frequent visitors\n",
    "df_barcoupons_accepted_frequent_visitors = df_barcoupons.query(\"Bar_More_Frequent == 1\")['Y'].value_counts()[1]\n",
    "#print(df_barcoupons_accepted_frequent_visitors)\n",
    "# Lets calculate the total bar coupon offered count for frequent visitors\n",
    "total_bar_coupon_offered_frequent_visitors = df_barcoupons.query(\"Bar_More_Frequent == 1\")['Y'].count()\n",
    "#print(total_bar_coupon_offered_frequent_visitors)\n",
    "# proportion of bar coupon acceptance from above values for frequent visitors\n",
    "frequent_visitors = round((df_barcoupons_accepted_frequent_visitors/total_bar_coupon_offered_frequent_visitors)*100,2)\n",
    "frequent_visitors\n",
    "print(f'The total acceptance of of those who went to a bar more times in a month was {(frequent_visitors)} ')"
   ]
  },
  {
   "cell_type": "markdown",
   "metadata": {},
   "source": [
    "@Finding: The analysis shows that frequent bar visitors accepted 76.17% of the bar coupons offered to them. This indicates a high acceptance rate among those who go to bars more often"
   ]
  },
  {
   "cell_type": "code",
   "execution_count": 43,
   "metadata": {},
   "outputs": [
    {
     "name": "stdout",
     "output_type": "stream",
     "text": [
      "The total acceptance of of those who went to a bar 3 or fewer times in a month was 37.27 \n"
     ]
    }
   ],
   "source": [
    "# Lets first assess the bar coupon accepted count for less frequent visitors\n",
    "df_bar_coupon_accepted_less_frequent_visitors = df_barcoupons.query(\"Bar_More_Frequent == 0\")['Y'].value_counts()[1]\n",
    "#print(df_bar_coupon_accepted_less_frequent_visitors)\n",
    "# Lets calculate the total bar coupon offered count for less frequent visitors\n",
    "total_bar_coupon_offered_less_frequent_visitors = df_barcoupons.query(\"Bar_More_Frequent == 0\")['Y'].count()\n",
    "#print(total_bar_coupon_offered_less_frequent_visitors)\n",
    "# proportion of bar coupon acceptance from above values for less frequent visitors\n",
    "less_frequent_visitors = round((df_bar_coupon_accepted_less_frequent_visitors/total_bar_coupon_offered_less_frequent_visitors)*100,2)\n",
    "less_frequent_visitors\n",
    "print(f'The total acceptance of of those who went to a bar 3 or fewer times in a month was {(less_frequent_visitors)} ')\n"
   ]
  },
  {
   "cell_type": "markdown",
   "metadata": {},
   "source": [
    "@Finding: The analysis shows that less frequent bar visitors (those who go 3 or fewer times a month) accepted 37.27% of the bar coupons offered to them. This is significantly lower than the acceptance rate of frequent visitors, indicating that bar coupon effectiveness is much higher among frequent visitors."
   ]
  },
  {
   "cell_type": "markdown",
   "metadata": {
    "id": "RBgcQwH4_qRK"
   },
   "source": [
    "4. Compare the acceptance rate between drivers who go to a bar more than once a month and are over the age of 25 to the all others.  Is there a difference?\n"
   ]
  },
  {
   "cell_type": "code",
   "execution_count": 56,
   "metadata": {},
   "outputs": [],
   "source": [
    "# writing a helper function that checks for both the conditions and returns either 1 or 0\n",
    "def bar_conditions(s):\n",
    "    if s['Bar'] in ['1~3', 'gt8', '4~8'] and s['age'] in [46, 26, 31, 41, 55, 36]:\n",
    "        return 1\n",
    "    else:\n",
    "        return 0\n",
    "\n",
    "# Let's create a new column based on the function above\n",
    "df_barcoupons['Bar_Frequent_Age'] = df_barcoupons.apply(bar_conditions, axis=1)"
   ]
  },
  {
   "cell_type": "code",
   "execution_count": 57,
   "metadata": {},
   "outputs": [
    {
     "data": {
      "text/html": [
       "<div>\n",
       "<style scoped>\n",
       "    .dataframe tbody tr th:only-of-type {\n",
       "        vertical-align: middle;\n",
       "    }\n",
       "\n",
       "    .dataframe tbody tr th {\n",
       "        vertical-align: top;\n",
       "    }\n",
       "\n",
       "    .dataframe thead th {\n",
       "        text-align: right;\n",
       "    }\n",
       "</style>\n",
       "<table border=\"1\" class=\"dataframe\">\n",
       "  <thead>\n",
       "    <tr style=\"text-align: right;\">\n",
       "      <th></th>\n",
       "      <th>Bar</th>\n",
       "      <th>age</th>\n",
       "      <th>occupation</th>\n",
       "      <th>Bar_Frequent_Age</th>\n",
       "    </tr>\n",
       "  </thead>\n",
       "  <tbody>\n",
       "    <tr>\n",
       "      <th>3101</th>\n",
       "      <td>never</td>\n",
       "      <td>26</td>\n",
       "      <td>Computer &amp; Mathematical</td>\n",
       "      <td>0</td>\n",
       "    </tr>\n",
       "    <tr>\n",
       "      <th>4699</th>\n",
       "      <td>less1</td>\n",
       "      <td>21</td>\n",
       "      <td>Student</td>\n",
       "      <td>0</td>\n",
       "    </tr>\n",
       "    <tr>\n",
       "      <th>10285</th>\n",
       "      <td>never</td>\n",
       "      <td>55</td>\n",
       "      <td>Legal</td>\n",
       "      <td>0</td>\n",
       "    </tr>\n",
       "    <tr>\n",
       "      <th>3362</th>\n",
       "      <td>never</td>\n",
       "      <td>26</td>\n",
       "      <td>Sales &amp; Related</td>\n",
       "      <td>0</td>\n",
       "    </tr>\n",
       "    <tr>\n",
       "      <th>8307</th>\n",
       "      <td>1~3</td>\n",
       "      <td>26</td>\n",
       "      <td>Architecture &amp; Engineering</td>\n",
       "      <td>1</td>\n",
       "    </tr>\n",
       "    <tr>\n",
       "      <th>3296</th>\n",
       "      <td>never</td>\n",
       "      <td>21</td>\n",
       "      <td>Student</td>\n",
       "      <td>0</td>\n",
       "    </tr>\n",
       "    <tr>\n",
       "      <th>8910</th>\n",
       "      <td>less1</td>\n",
       "      <td>26</td>\n",
       "      <td>Management</td>\n",
       "      <td>0</td>\n",
       "    </tr>\n",
       "    <tr>\n",
       "      <th>3791</th>\n",
       "      <td>1~3</td>\n",
       "      <td>26</td>\n",
       "      <td>Food Preparation &amp; Serving Related</td>\n",
       "      <td>1</td>\n",
       "    </tr>\n",
       "    <tr>\n",
       "      <th>7587</th>\n",
       "      <td>less1</td>\n",
       "      <td>26</td>\n",
       "      <td>Computer &amp; Mathematical</td>\n",
       "      <td>0</td>\n",
       "    </tr>\n",
       "    <tr>\n",
       "      <th>4195</th>\n",
       "      <td>less1</td>\n",
       "      <td>41</td>\n",
       "      <td>Computer &amp; Mathematical</td>\n",
       "      <td>0</td>\n",
       "    </tr>\n",
       "  </tbody>\n",
       "</table>\n",
       "</div>"
      ],
      "text/plain": [
       "         Bar  age                          occupation  Bar_Frequent_Age\n",
       "3101   never   26             Computer & Mathematical                 0\n",
       "4699   less1   21                             Student                 0\n",
       "10285  never   55                               Legal                 0\n",
       "3362   never   26                     Sales & Related                 0\n",
       "8307     1~3   26          Architecture & Engineering                 1\n",
       "3296   never   21                             Student                 0\n",
       "8910   less1   26                          Management                 0\n",
       "3791     1~3   26  Food Preparation & Serving Related                 1\n",
       "7587   less1   26             Computer & Mathematical                 0\n",
       "4195   less1   41             Computer & Mathematical                 0"
      ]
     },
     "execution_count": 57,
     "metadata": {},
     "output_type": "execute_result"
    }
   ],
   "source": [
    "# validate the outcome whether it works based on the conditions applied\n",
    "df_barcoupons[['Bar','age','occupation','Bar_Frequent_Age']].sample(10)"
   ]
  },
  {
   "cell_type": "code",
   "execution_count": 59,
   "metadata": {},
   "outputs": [
    {
     "name": "stdout",
     "output_type": "stream",
     "text": [
      "The acceptance rate of those who go to a bar more than once a month and are over the age of 25 is 68.98%\n"
     ]
    }
   ],
   "source": [
    "# Calculate the bar coupon accepted count for high frequent vistors > 25 years\n",
    "bar_coupon_accepted_more_frequent_visitors_age = df_barcoupons.query(\"Bar_Frequent_Age == 1\")['Y'].value_counts()[1]\n",
    "\n",
    "# Calculate the total bar coupon offered count for frequent visitors > 25 years\n",
    "total_bar_coupon_offered_frequent_visitors_age = df_barcoupons.query(\"Bar_Frequent_Age == 1\")['Y'].count()\n",
    "\n",
    "# Calculate the proportion of bar coupon acceptance from above values for frequent visitors > 25 years\n",
    "proportion_of_bar_coupon_acceptance_frequent_visitors_age = round((bar_coupon_accepted_more_frequent_visitors_age/total_bar_coupon_offered_frequent_visitors_age)*100,2)\n",
    "\n",
    "print(f'The acceptance rate of those who go to a bar more than once a month and are over the age of 25 is {proportion_of_bar_coupon_acceptance_frequent_visitors_age}%')"
   ]
  },
  {
   "cell_type": "code",
   "execution_count": 60,
   "metadata": {},
   "outputs": [
    {
     "name": "stdout",
     "output_type": "stream",
     "text": [
      "The acceptance rate of those who go to a bar more than once a month and are under the age of 25 is 33.77%\n"
     ]
    }
   ],
   "source": [
    "# Calculate the bar coupon accepted count for less frequent vistors with younger age\n",
    "bar_coupon_accepted_less_frequent_visitors_younger_age = df_barcoupons.query(\"Bar_Frequent_Age == 0\")['Y'].value_counts()[1]\n",
    "\n",
    "# Calculate the total bar coupon offered count for less frequent vistors with younger age\n",
    "total_bar_coupon_offered_less_frequent_visitors_younger_age = df_barcoupons.query(\"Bar_Frequent_Age == 0\")['Y'].count()\n",
    "\n",
    "# Calculate the proportion of bar coupon acceptance from above values for less frequent vistors with younger age\n",
    "proportion_of_bar_coupon_acceptance_less_frequent_visitors_younger_age = round((bar_coupon_accepted_less_frequent_visitors_younger_age/total_bar_coupon_offered_less_frequent_visitors_younger_age)*100,2)\n",
    "\n",
    "print(f'The acceptance rate of those who go to a bar more than once a month and are under the age of 25 is {proportion_of_bar_coupon_acceptance_less_frequent_visitors_younger_age}%')"
   ]
  },
  {
   "cell_type": "markdown",
   "metadata": {},
   "source": [
    "@Finding: The acceptance rate for bar coupons among frequent bar visitors over the age of 25 is 68.98%, while for less frequent visitors under 25, it's significantly lower at 33.77%. This suggests that age and visit frequency both influence coupon acceptance, with older, more frequent visitors being much more likely to redeem."
   ]
  },
  {
   "cell_type": "markdown",
   "metadata": {
    "id": "S4RKT4PJ_qRK"
   },
   "source": [
    "5. Use the same process to compare the acceptance rate between drivers who go to bars more than once a month and had passengers that were not a kid and had occupations other than farming, fishing, or forestry.\n"
   ]
  },
  {
   "cell_type": "code",
   "execution_count": 65,
   "metadata": {
    "id": "sENaI2Tg_qRK"
   },
   "outputs": [
    {
     "name": "stdout",
     "output_type": "stream",
     "text": [
      "Acceptance rate (bar-goers > 1/month, no kids, not in farming/fishing/forestry): 70.94%\n",
      "Non-acceptance rate: 29.06%\n"
     ]
    }
   ],
   "source": [
    "# Filter for people who go to the bar at least once per month\n",
    "bar_visitors_monthly = df_barcoupons.query('(Bar == \"1~3\") or (Bar == \"4~8\") or (Bar == \"gt8\")')\n",
    "\n",
    "# People who did NOT accept the coupon and did NOT have kids as passengers\n",
    "not_accepted_no_kids = bar_visitors_monthly.query('(Y == 0) and (passanger != \"Kid(s)\")')\n",
    "\n",
    "# People who DID accept the coupon and did NOT have kids as passengers\n",
    "accepted_no_kids = bar_visitors_monthly.query('(Y == 1) and (passanger != \"Kid(s)\")')\n",
    "\n",
    "# Count accepted and not accepted\n",
    "count_not_accepted = len(not_accepted_no_kids)\n",
    "count_accepted = len(accepted_no_kids)\n",
    "\n",
    "# Total count\n",
    "total_count = count_not_accepted + count_accepted\n",
    "\n",
    "# Calculate acceptance and non-acceptance rates\n",
    "acceptance_rate = (count_accepted / total_count) * 100\n",
    "non_acceptance_rate = (count_not_accepted / total_count) * 100\n",
    "\n",
    "# Print results\n",
    "print(f'Acceptance rate (bar-goers > 1/month, no kids, not in farming/fishing/forestry): {acceptance_rate:.2f}%')\n",
    "print(f'Non-acceptance rate: {non_acceptance_rate:.2f}%')"
   ]
  },
  {
   "cell_type": "markdown",
   "metadata": {},
   "source": [
    "@Finding: Among individuals who go to bars more than once a month, do not have kids as passengers, and are not in farming, fishing, or forestry occupations, the bar coupon acceptance rate is 70.94%, while the non-acceptance rate is 29.06%. This suggests a strong likelihood of coupon acceptance within this group."
   ]
  },
  {
   "cell_type": "markdown",
   "metadata": {
    "id": "n2LIUTil_qRK"
   },
   "source": [
    "6. Compare the acceptance rates between those drivers who:\n",
    "\n",
    "- go to bars more than once a month, had passengers that were not a kid, and were not widowed *OR*\n",
    "- go to bars more than once a month and are under the age of 30 *OR*\n",
    "- go to cheap restaurants more than 4 times a month and income is less than 50K.\n",
    "\n"
   ]
  },
  {
   "cell_type": "code",
   "execution_count": 66,
   "metadata": {
    "id": "aK_wEzx7_qRK"
   },
   "outputs": [
    {
     "name": "stdout",
     "output_type": "stream",
     "text": [
      "The acceptance rate of those who go to bars more than once a month, had no kids as passengers, and were not widowed was: 70.94%\n"
     ]
    }
   ],
   "source": [
    "# Filter for people who go to bars more than once a month\n",
    "bar_goers_monthly = df_barcoupons.query('(Bar == \"1~3\") or (Bar == \"4~8\") or (Bar == \"gt8\")')\n",
    "\n",
    "# Total people (regardless of acceptance) who did NOT have kids as passengers\n",
    "total_no_kids = len(bar_goers_monthly.query('passanger != \"Kid(s)\"'))\n",
    "\n",
    "# People who accepted the coupon and did NOT have kids as passengers\n",
    "accepted_no_kids = bar_goers_monthly.query('(Y == 1) and (passanger != \"Kid(s)\")')\n",
    "\n",
    "# Count of accepted\n",
    "count_accepted_no_kids = len(accepted_no_kids)\n",
    "\n",
    "# Calculate acceptance rate\n",
    "acceptance_rate = (count_accepted_no_kids / total_no_kids) * 100\n",
    "\n",
    "# Display result\n",
    "print(f'The acceptance rate of those who go to bars more than once a month, had no kids as passengers, and were not widowed was: {acceptance_rate:.2f}%')"
   ]
  },
  {
   "cell_type": "code",
   "execution_count": 68,
   "metadata": {},
   "outputs": [
    {
     "name": "stdout",
     "output_type": "stream",
     "text": [
      "The acceptance rate of those who go to bars more than once a month and are under the age of 30 is: 71.95%\n"
     ]
    }
   ],
   "source": [
    "# Filter for people who go to bars more than once a month\n",
    "bar_goers_monthly = df_barcoupons.query('(Bar == \"1~3\") or (Bar == \"4~8\") or (Bar == \"gt8\")')\n",
    "\n",
    "# Further filter for people under the age of 30 (based on specific age values in the dataset)\n",
    "under_30 = bar_goers_monthly.query('(age == 15) or (age == 21) or (age == 26)')\n",
    "\n",
    "# Total number of people under 30 who go to bars more than once a month\n",
    "total_under_30 = len(under_30)\n",
    "\n",
    "# Filter for those who accepted the coupon\n",
    "accepted_under_30 = under_30.query('Y == 1')\n",
    "\n",
    "# Calculate acceptance rate\n",
    "acceptance_rate_under_30 = (len(accepted_under_30) / total_under_30) * 100\n",
    "\n",
    "# Display result\n",
    "print(f'The acceptance rate of those who go to bars more than once a month and are under the age of 30 is: {acceptance_rate_under_30:.2f}%')"
   ]
  },
  {
   "cell_type": "code",
   "execution_count": 69,
   "metadata": {},
   "outputs": [
    {
     "name": "stdout",
     "output_type": "stream",
     "text": [
      "Acceptance rate for people who go to cheap restaurants over 4x/month and earn less than $50K: 45.65%\n"
     ]
    }
   ],
   "source": [
    "# Step 1: Filter people who go to cheap restaurants more than 4 times a month\n",
    "frequent_diners = df_barcoupons.query('(RestaurantLessThan20 == \"4~8\") or (RestaurantLessThan20 == \"gt8\")')\n",
    "\n",
    "# Step 2: From that group, select people with income less than $50K\n",
    "low_income_group = frequent_diners.query(\n",
    "    '(income == \"Less than $12500\") or '\n",
    "    '(income == \"$12500 - $24999\") or '\n",
    "    '(income == \"$25000 - $37499\") or '\n",
    "    '(income == \"$37500 - $49999\")'\n",
    ")\n",
    "\n",
    "# Step 3: Count how many people are in this group\n",
    "total_people = len(low_income_group)\n",
    "\n",
    "# Step 4: Count how many of them accepted the coupon\n",
    "accepted_count = len(low_income_group.query('Y == 1'))\n",
    "\n",
    "# Step 5: Calculate the acceptance rate\n",
    "acceptance_rate = (accepted_count / total_people) * 100\n",
    "\n",
    "# Step 6: Show the result\n",
    "print(f'Acceptance rate for people who go to cheap restaurants over 4x/month and earn less than $50K: {acceptance_rate:.2f}%')"
   ]
  },
  {
   "cell_type": "markdown",
   "metadata": {},
   "source": [
    "@Finding: \n",
    "\n",
    "Bar-goers without kids as passengers:\n",
    "Among people who go to bars more than once a month and do not have kids as passengers, the coupon acceptance rate is high at 70.94%.\n",
    "This suggests a strong interest in bar coupons among socially active individuals without child-related responsibilities.\n",
    "\n",
    "Bar-goers under age 30:\n",
    "For individuals under 30 years old who go to bars frequently, the acceptance rate is slightly higher at 71.95%.\n",
    "Young adults appear particularly receptive to bar-related promotions.\n",
    "\n",
    "Frequent cheap restaurant diners with income less than 50K:\n",
    "Among those who eat at cheap restaurants more than 4 times a month and have incomes below $50,000, the acceptance rate drops to 45.65%.\n",
    "Despite their frequent dining, this group is less responsive to coupons, possibly due to price sensitivity or lack of perceived value."
   ]
  },
  {
   "cell_type": "markdown",
   "metadata": {
    "id": "v3fL3QkO_qRK"
   },
   "source": [
    "7.  Based on these observations, what do you hypothesize about drivers who accepted the bar coupons?"
   ]
  },
  {
   "cell_type": "markdown",
   "metadata": {
    "id": "Y48naDFh_qRL"
   },
   "source": [
    "@Finding: \n",
    "\n",
    "Based on the observations, I’d hypothesize that drivers who accepted the bar coupons tend to be:\n",
    "More socially active, frequently visiting bars (more than once a month).\n",
    "Younger (under 30 years old), likely more open to trying promotions and social outings.\n",
    "Less likely to have kids as passengers, suggesting fewer family responsibilities that might limit nightlife activities.\n",
    "Possibly not widowed, since the data filtered out widowed individuals who typically go less often.\n",
    "\n",
    "In essence, these drivers are probably younger, socially engaged individuals who enjoy nightlife and are responsive to promotions related to bar visits. This demographic seems more receptive to coupons tied to social activities compared to others, like lower-income frequent cheap restaurant diners."
   ]
  },
  {
   "cell_type": "markdown",
   "metadata": {
    "id": "r4Hu1zOb_qRL"
   },
   "source": [
    "### Independent Investigation\n",
    "\n",
    "Using the bar coupon example as motivation, you are to explore one of the other coupon groups and try to determine the characteristics of passengers who accept the coupons.  "
   ]
  },
  {
   "cell_type": "code",
   "execution_count": 76,
   "metadata": {
    "id": "0c71cQhu_qRL"
   },
   "outputs": [
    {
     "name": "stdout",
     "output_type": "stream",
     "text": [
      "Frequent Inexpensive Restaurant Visitors: (1856, 27)\n",
      "Frequent Expensive Restaurant Visitors: (775, 27)\n",
      "Combined Dataset: (2631, 27)\n"
     ]
    },
    {
     "data": {
      "image/png": "[encoded data removed]",
      "text/plain": [
       "<Figure size 1000x600 with 1 Axes>"
      ]
     },
     "metadata": {},
     "output_type": "display_data"
    }
   ],
   "source": [
    "# Carry Out Coupon Acceptance Comparison\n",
    "\n",
    "# Filter dataset for Carry Out coupons only\n",
    "carryout_coupons = df.query('coupon == \"Carry out & Take away\"')\n",
    "\n",
    "# Frequent visitors to inexpensive restaurants (visits > once a month)\n",
    "freq_cheap_rest = carryout_coupons[carryout_coupons.RestaurantLessThan20.isin([\"1~3\", \"4~8\", \"gt8\"])]\n",
    "freq_cheap_rest = freq_cheap_rest.copy()\n",
    "freq_cheap_rest['group'] = 'FreqInexpRestVisitors'  # Label group for visualization\n",
    "\n",
    "# Frequent visitors to expensive restaurants (visits > once a month)\n",
    "freq_exp_rest = carryout_coupons[carryout_coupons.Restaurant20To50.isin([\"1~3\", \"4~8\", \"gt8\"])]\n",
    "freq_exp_rest = freq_exp_rest.copy()\n",
    "freq_exp_rest['group'] = 'FreqExpRestVisitors'  # Label group for visualization\n",
    "\n",
    "# Merge both groups into one DataFrame for comparison\n",
    "combined_carryout = pd.merge(freq_cheap_rest, freq_exp_rest, how='outer')\n",
    "\n",
    "# Check data shapes to confirm merge\n",
    "print(\"Frequent Inexpensive Restaurant Visitors:\", freq_cheap_rest.shape)\n",
    "print(\"Frequent Expensive Restaurant Visitors:\", freq_exp_rest.shape)\n",
    "print(\"Combined Dataset:\", combined_carryout.shape)\n",
    "\n",
    "# Plot acceptance rates by group\n",
    "\n",
    "# Set plot size\n",
    "plt.figure(figsize=(10, 6))\n",
    "\n",
    "# Plot histogram using seaborn's countplot to handle categorical data nicely\n",
    "sns.countplot(data=combined_carryout, x='group', hue='Y')\n",
    "\n",
    "# Add title and labels\n",
    "plt.title('Carry Out Coupon Acceptance: Inexpensive vs Expensive Restaurant Visitors')\n",
    "plt.xlabel('Group')\n",
    "plt.ylabel('Count')\n",
    "\n",
    "# Show legend\n",
    "plt.legend(title='Coupon Accepted')\n",
    "\n",
    "# Save the plot\n",
    "plt.tight_layout()  # Adjusts layout to prevent clipping\n",
    "plt.savefig(\"images/carry_out_visitors_histogram.png\", dpi=300, bbox_inches='tight')\n",
    "plt.show()"
   ]
  },
  {
   "cell_type": "markdown",
   "metadata": {
    "id": "QEsBkvIN_qRL"
   },
   "source": [
    "@ Finding: \n",
    "Drivers who frequently visit inexpensive or expensive restaurants show similarly high acceptance rates for carry out coupons regardless of the restaurant cost."
   ]
  }
 ],
 "metadata": {
  "colab": {
   "provenance": []
  },
  "kernelspec": {
   "display_name": "Python [conda env:base] *",
   "language": "python",
   "name": "conda-base-py"
  },
  "language_info": {
   "codemirror_mode": {
    "name": "ipython",
    "version": 3
   },
   "file_extension": ".py",
   "mimetype": "text/x-python",
   "name": "python",
   "nbconvert_exporter": "python",
   "pygments_lexer": "ipython3",
   "version": "3.13.5"
  }
 },
 "nbformat": 4,
 "nbformat_minor": 4
}
